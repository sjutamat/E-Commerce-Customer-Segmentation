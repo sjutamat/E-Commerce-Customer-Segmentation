{
 "cells": [
  {
   "cell_type": "code",
   "execution_count": 4,
   "metadata": {},
   "outputs": [
    {
     "data": {
      "text/html": [
       "<div>\n",
       "<style scoped>\n",
       "    .dataframe tbody tr th:only-of-type {\n",
       "        vertical-align: middle;\n",
       "    }\n",
       "\n",
       "    .dataframe tbody tr th {\n",
       "        vertical-align: top;\n",
       "    }\n",
       "\n",
       "    .dataframe thead th {\n",
       "        text-align: right;\n",
       "    }\n",
       "</style>\n",
       "<table border=\"1\" class=\"dataframe\">\n",
       "  <thead>\n",
       "    <tr style=\"text-align: right;\">\n",
       "      <th></th>\n",
       "      <th>Substance</th>\n",
       "      <th>Source</th>\n",
       "      <th>Specific_Measure</th>\n",
       "      <th>Type_Event</th>\n",
       "      <th>Region</th>\n",
       "      <th>PRUID</th>\n",
       "      <th>Time_Period</th>\n",
       "      <th>Year_Quarter</th>\n",
       "      <th>Aggregator</th>\n",
       "      <th>Disaggregator</th>\n",
       "      <th>Unit</th>\n",
       "      <th>Value</th>\n",
       "    </tr>\n",
       "  </thead>\n",
       "  <tbody>\n",
       "    <tr>\n",
       "      <th>0</th>\n",
       "      <td>Opioids</td>\n",
       "      <td>Deaths</td>\n",
       "      <td>Overall numbers</td>\n",
       "      <td>Total apparent opioid toxicity deaths</td>\n",
       "      <td>Canada</td>\n",
       "      <td>1</td>\n",
       "      <td>By year</td>\n",
       "      <td>2016</td>\n",
       "      <td>NaN</td>\n",
       "      <td>NaN</td>\n",
       "      <td>Crude rate</td>\n",
       "      <td>7.8</td>\n",
       "    </tr>\n",
       "    <tr>\n",
       "      <th>1</th>\n",
       "      <td>Opioids</td>\n",
       "      <td>Deaths</td>\n",
       "      <td>Overall numbers</td>\n",
       "      <td>Total apparent opioid toxicity deaths</td>\n",
       "      <td>Canada</td>\n",
       "      <td>1</td>\n",
       "      <td>By year</td>\n",
       "      <td>2017</td>\n",
       "      <td>NaN</td>\n",
       "      <td>NaN</td>\n",
       "      <td>Crude rate</td>\n",
       "      <td>10.7</td>\n",
       "    </tr>\n",
       "    <tr>\n",
       "      <th>2</th>\n",
       "      <td>Opioids</td>\n",
       "      <td>Deaths</td>\n",
       "      <td>Overall numbers</td>\n",
       "      <td>Total apparent opioid toxicity deaths</td>\n",
       "      <td>Canada</td>\n",
       "      <td>1</td>\n",
       "      <td>By year</td>\n",
       "      <td>2018</td>\n",
       "      <td>NaN</td>\n",
       "      <td>NaN</td>\n",
       "      <td>Crude rate</td>\n",
       "      <td>11.4</td>\n",
       "    </tr>\n",
       "    <tr>\n",
       "      <th>3</th>\n",
       "      <td>Opioids</td>\n",
       "      <td>Deaths</td>\n",
       "      <td>Overall numbers</td>\n",
       "      <td>Total apparent opioid toxicity deaths</td>\n",
       "      <td>Canada</td>\n",
       "      <td>1</td>\n",
       "      <td>By year</td>\n",
       "      <td>2019</td>\n",
       "      <td>NaN</td>\n",
       "      <td>NaN</td>\n",
       "      <td>Crude rate</td>\n",
       "      <td>9.9</td>\n",
       "    </tr>\n",
       "    <tr>\n",
       "      <th>4</th>\n",
       "      <td>Opioids</td>\n",
       "      <td>Deaths</td>\n",
       "      <td>Overall numbers</td>\n",
       "      <td>Total apparent opioid toxicity deaths</td>\n",
       "      <td>Canada</td>\n",
       "      <td>1</td>\n",
       "      <td>By year</td>\n",
       "      <td>2020</td>\n",
       "      <td>NaN</td>\n",
       "      <td>NaN</td>\n",
       "      <td>Crude rate</td>\n",
       "      <td>16.8</td>\n",
       "    </tr>\n",
       "  </tbody>\n",
       "</table>\n",
       "</div>"
      ],
      "text/plain": [
       "  Substance  Source Specific_Measure                             Type_Event  \\\n",
       "0   Opioids  Deaths  Overall numbers  Total apparent opioid toxicity deaths   \n",
       "1   Opioids  Deaths  Overall numbers  Total apparent opioid toxicity deaths   \n",
       "2   Opioids  Deaths  Overall numbers  Total apparent opioid toxicity deaths   \n",
       "3   Opioids  Deaths  Overall numbers  Total apparent opioid toxicity deaths   \n",
       "4   Opioids  Deaths  Overall numbers  Total apparent opioid toxicity deaths   \n",
       "\n",
       "   Region  PRUID Time_Period Year_Quarter Aggregator Disaggregator  \\\n",
       "0  Canada      1     By year         2016        NaN           NaN   \n",
       "1  Canada      1     By year         2017        NaN           NaN   \n",
       "2  Canada      1     By year         2018        NaN           NaN   \n",
       "3  Canada      1     By year         2019        NaN           NaN   \n",
       "4  Canada      1     By year         2020        NaN           NaN   \n",
       "\n",
       "         Unit Value  \n",
       "0  Crude rate   7.8  \n",
       "1  Crude rate  10.7  \n",
       "2  Crude rate  11.4  \n",
       "3  Crude rate   9.9  \n",
       "4  Crude rate  16.8  "
      ]
     },
     "execution_count": 4,
     "metadata": {},
     "output_type": "execute_result"
    }
   ],
   "source": [
    "import pandas as pd\n",
    "substance = 'archive/SubstanceHarmsData.csv'\n",
    "substance_data = pd.read_csv(substance)\n",
    "substance_data.head()"
   ]
  },
  {
   "cell_type": "markdown",
   "metadata": {},
   "source": [
    "check data type"
   ]
  },
  {
   "cell_type": "code",
   "execution_count": 5,
   "metadata": {},
   "outputs": [
    {
     "name": "stdout",
     "output_type": "stream",
     "text": [
      "<class 'pandas.core.frame.DataFrame'>\n",
      "RangeIndex: 27909 entries, 0 to 27908\n",
      "Data columns (total 12 columns):\n",
      " #   Column            Non-Null Count  Dtype \n",
      "---  ------            --------------  ----- \n",
      " 0   Substance         27909 non-null  object\n",
      " 1   Source            27909 non-null  object\n",
      " 2   Specific_Measure  27909 non-null  object\n",
      " 3   Type_Event        27909 non-null  object\n",
      " 4   Region            27909 non-null  object\n",
      " 5   PRUID             27909 non-null  int64 \n",
      " 6   Time_Period       27909 non-null  object\n",
      " 7   Year_Quarter      27909 non-null  object\n",
      " 8   Aggregator        20284 non-null  object\n",
      " 9   Disaggregator     20284 non-null  object\n",
      " 10  Unit              27909 non-null  object\n",
      " 11  Value             23910 non-null  object\n",
      "dtypes: int64(1), object(11)\n",
      "memory usage: 2.6+ MB\n",
      "None\n"
     ]
    }
   ],
   "source": [
    "print(substance_data.info())"
   ]
  },
  {
   "cell_type": "markdown",
   "metadata": {},
   "source": [
    "check total records, find out how many records its has and how many records can be used to analyze."
   ]
  },
  {
   "cell_type": "code",
   "execution_count": 6,
   "metadata": {},
   "outputs": [
    {
     "name": "stdout",
     "output_type": "stream",
     "text": [
      "27909\n"
     ]
    }
   ],
   "source": [
    "# get the row of data\n",
    "num_row = len(substance_data)\n",
    "print(num_row)"
   ]
  },
  {
   "cell_type": "markdown",
   "metadata": {},
   "source": [
    "Check total records contains invalid data."
   ]
  },
  {
   "cell_type": "code",
   "execution_count": 7,
   "metadata": {},
   "outputs": [
    {
     "name": "stdout",
     "output_type": "stream",
     "text": [
      "Row with improper data:\n",
      "        Substance                            Source  \\\n",
      "486       Opioids                            Deaths   \n",
      "487       Opioids                            Deaths   \n",
      "488       Opioids                            Deaths   \n",
      "489       Opioids                            Deaths   \n",
      "490       Opioids                            Deaths   \n",
      "...           ...                               ...   \n",
      "27481  Stimulants  Emergency Department (ED) Visits   \n",
      "27513  Stimulants  Emergency Department (ED) Visits   \n",
      "27517  Stimulants  Emergency Department (ED) Visits   \n",
      "27549  Stimulants  Emergency Department (ED) Visits   \n",
      "27553  Stimulants  Emergency Department (ED) Visits   \n",
      "\n",
      "                               Specific_Measure  \\\n",
      "486                             Overall numbers   \n",
      "487                             Overall numbers   \n",
      "488                             Overall numbers   \n",
      "489                             Overall numbers   \n",
      "490                             Overall numbers   \n",
      "...                                         ...   \n",
      "27481  Involving other non-stimulant substances   \n",
      "27513  Involving other non-stimulant substances   \n",
      "27517  Involving other non-stimulant substances   \n",
      "27549  Involving other non-stimulant substances   \n",
      "27553  Involving other non-stimulant substances   \n",
      "\n",
      "                                              Type_Event  \\\n",
      "486                Total apparent opioid toxicity deaths   \n",
      "487                Total apparent opioid toxicity deaths   \n",
      "488                Total apparent opioid toxicity deaths   \n",
      "489                Total apparent opioid toxicity deaths   \n",
      "490                Total apparent opioid toxicity deaths   \n",
      "...                                                  ...   \n",
      "27481        Total stimulant-related poisoning ED visits   \n",
      "27513   Accidental stimulant-related poisoning ED visits   \n",
      "27517   Accidental stimulant-related poisoning ED visits   \n",
      "27549  Intentional stimulant-related poisoning ED visits   \n",
      "27553  Intentional stimulant-related poisoning ED visits   \n",
      "\n",
      "                     Region  PRUID Time_Period Year_Quarter Aggregator  \\\n",
      "486    Prince Edward Island     11  By quarter      2016 Q1        NaN   \n",
      "487    Prince Edward Island     11  By quarter      2016 Q2        NaN   \n",
      "488    Prince Edward Island     11  By quarter      2016 Q3        NaN   \n",
      "489    Prince Edward Island     11  By quarter      2016 Q4        NaN   \n",
      "490    Prince Edward Island     11  By quarter      2017 Q1        NaN   \n",
      "...                     ...    ...         ...          ...        ...   \n",
      "27481                Canada      1     By year         2017       2017   \n",
      "27513                Canada      1     By year         2016       2016   \n",
      "27517                Canada      1     By year         2017       2017   \n",
      "27549                Canada      1     By year         2016       2016   \n",
      "27553                Canada      1     By year         2017       2017   \n",
      "\n",
      "                                  Disaggregator     Unit   Value  \\\n",
      "486                                         NaN   Number     NaN   \n",
      "487                                         NaN   Number     NaN   \n",
      "488                                         NaN   Number     NaN   \n",
      "489                                         NaN   Number     NaN   \n",
      "490                                         NaN   Number  Suppr.   \n",
      "...                                         ...      ...     ...   \n",
      "27481  Involving fentanyl or fentanyl analogues  Percent     NaN   \n",
      "27513  Involving fentanyl or fentanyl analogues  Percent     NaN   \n",
      "27517  Involving fentanyl or fentanyl analogues  Percent     NaN   \n",
      "27549  Involving fentanyl or fentanyl analogues  Percent     NaN   \n",
      "27553  Involving fentanyl or fentanyl analogues  Percent     NaN   \n",
      "\n",
      "       Value_numeric  \n",
      "486              NaN  \n",
      "487              NaN  \n",
      "488              NaN  \n",
      "489              NaN  \n",
      "490              NaN  \n",
      "...              ...  \n",
      "27481            NaN  \n",
      "27513            NaN  \n",
      "27517            NaN  \n",
      "27549            NaN  \n",
      "27553            NaN  \n",
      "\n",
      "[6838 rows x 13 columns]\n",
      "This file has 6838 rows invalid.\n"
     ]
    }
   ],
   "source": [
    "#get the row that value contain text and value can not be used.\n",
    "#try to convert data in column name Value to number\n",
    "substance_data['Value_numeric'] = pd.to_numeric(substance_data['Value'], errors='coerce')\n",
    "\n",
    "#indentify row with invalid data\n",
    "inval_rows = substance_data[substance_data['Value_numeric'].isna()]\n",
    "num_inval_rows = len(inval_rows)\n",
    "print(\"Row with improper data:\")\n",
    "print(inval_rows)\n",
    "print(f'This file has {num_inval_rows} rows invalid.')"
   ]
  },
  {
   "cell_type": "markdown",
   "metadata": {},
   "source": [
    "Check if data contains null value"
   ]
  },
  {
   "cell_type": "code",
   "execution_count": 8,
   "metadata": {},
   "outputs": [
    {
     "name": "stdout",
     "output_type": "stream",
     "text": [
      "This file has Substance              0\n",
      "Source                 0\n",
      "Specific_Measure       0\n",
      "Type_Event             0\n",
      "Region                 0\n",
      "PRUID                  0\n",
      "Time_Period            0\n",
      "Year_Quarter           0\n",
      "Aggregator          7625\n",
      "Disaggregator       7625\n",
      "Unit                   0\n",
      "Value               3999\n",
      "Value_numeric       6838\n",
      "dtype: int64 rows contain NULL data.\n"
     ]
    }
   ],
   "source": [
    "# check null data in every column\n",
    "data_null = substance_data.isnull().sum()\n",
    "print(f'This file has {data_null} rows contain NULL data.')"
   ]
  },
  {
   "cell_type": "code",
   "execution_count": 9,
   "metadata": {},
   "outputs": [
    {
     "name": "stdout",
     "output_type": "stream",
     "text": [
      "Year_Quarter\n",
      "2016                    7.8283216.680714.36027.3836.7886.28673.22634.5...\n",
      "2016 Q1                 6691761372518214681217Suppr.020576170118251117...\n",
      "2016 Q2                 636157140172021864414Suppr.2005521571301414180...\n",
      "2016 Q3                 6541531592417195681017821056514714422131744361...\n",
      "2016 Q4                 86332116617332406385532076031715515231983773Su...\n",
      "2017                    10.7392826.3130017.67447.4857.9106912653.42805...\n",
      "2017 Q1                 9223541622534238651019Suppr.114008193491522226...\n",
      "2017 Q2                 1022365182203431179817Suppr.600091536016117272...\n",
      "2017 Q3                 1057318183221941469813Suppr.911097330917119183...\n",
      "2017 Q4                 9222632171819302671215072008372591991616280411...\n",
      "2018                    11.4422727.5137918.8805101166.99310.515112.521...\n",
      "2018 (Apr to Dec)          161933167111300Suppr.Suppr.4072023241122004210\n",
      "2018 Q1                 10013581943221316558160Suppr.01092235819330152...\n",
      "2018 Q2                 974318206261733451418Suppr.Suppr.0009163142062...\n",
      "2018 Q3                 1101365210312440642910Suppr.Suppr.310102435820...\n",
      "2018 Q4                 1131338195273145563911Suppr.Suppr.200105533519...\n",
      "2019                    9.9372220.1102714.46269.91154.56210.715602.521...\n",
      "2019 Q1                 1049310162241045854615Suppr.811Suppr.969296161...\n",
      "2019 Q2                 1060256187341648056718Suppr.600Suppr.996248183...\n",
      "2019 Q3                 7422311522211247521512Suppr.Suppr.000675216151...\n",
      "2019 Q4                 8622301253525375517110Suppr.300795220124312433...\n",
      "2020                    16.8639634.7179827119121.425016.923316.724643....\n",
      "2020 Q1                 103828516124234725659Suppr.Suppr.30Suppr.96827...\n",
      "2020 Q2                 16875013197053631801011Suppr.930Suppr.16064933...\n",
      "2020 Q3                 17874973638081635971210Suppr.63301704491362787...\n",
      "2020 Q4                 18675153487676726881819Suppr.Suppr.10017865073...\n",
      "2021                    20.6788444.523243716402832720.528619.328613.42...\n",
      "2021 Q1                 18865403646565738731513Suppr.751Suppr.18115323...\n",
      "2021 Q2                 187354736456687327898Suppr.5510179553636152646...\n",
      "2021 Q3                 1947573405938768170126675201874559402928065751...\n",
      "2021 Q4                 217266450711366710721113Suppr.880Suppr.2081654...\n",
      "2022                    20779145241233.8152424.929320.328716.725346.25...\n",
      "2022 Q1                 203661246276756451161622Suppr.Suppr.1020196659...\n",
      "2022 Q2                 1832552354817259213621100842017675423537863557...\n",
      "2022 Q3                 185159831962616211431915Suppr.1210Suppr.177658...\n",
      "2022 Q4                 205665038974796761452115Suppr.Suppr.43Suppr.19...\n",
      "2023                    21.3853847260240187226.131622.733016.926476.15...\n",
      "2023 Q1                 208064844294866601102413Suppr.Suppr.3001996636...\n",
      "2023 Q2                 2181649508798868912625120Suppr.500210763850578...\n",
      "2023 Q3                 208862147874706631272218Suppr.1221200461047373...\n",
      "2023 Q4                 216868444469866351732730Suppr.1172210567444066...\n",
      "2024 (Jan to Jun)       18.4378742.1120025.462215.89826.519815.6125873...\n",
      "2024 Q1                 196562836964906031601219Suppr.1442188962336863...\n",
      "2024 Q2                 181757225334108655159719Suppr.9101677558250341...\n",
      "Cocaine - Female        6461586063646855545456586668321817183213343544...\n",
      "Cocaine - Male          6462596165667058565557606268292427163131565550...\n",
      "Fentanyl - Female       7580808376556691848886898695908985878169627386...\n",
      "Fentanyl - Male         8084868987677886869293938993939087898880769085...\n",
      "Fentanyl analogues -    4038403924231919141519249115246464627222722413...\n",
      "Methamphetamine - Fe    5760605654504862716664645456819188807191667173...\n",
      "Methamphetamine - Ma    5457565650454363656262575449818782897371537367...\n",
      "Non-fentanyl opioids    3324292129222921382453365239301828202721322129...\n",
      "Other stimulants - F    5358910922546321971026149343320003334896464338...\n",
      "Other stimulants - M    3446898133243313131624142428034267332356840443...\n",
      "Name: Value, dtype: object\n"
     ]
    }
   ],
   "source": [
    "grouped = substance_data.groupby('Year_Quarter')['Value'].sum()\n",
    "print(grouped)"
   ]
  },
  {
   "cell_type": "code",
   "execution_count": 10,
   "metadata": {},
   "outputs": [
    {
     "data": {
      "text/html": [
       "<div>\n",
       "<style scoped>\n",
       "    .dataframe tbody tr th:only-of-type {\n",
       "        vertical-align: middle;\n",
       "    }\n",
       "\n",
       "    .dataframe tbody tr th {\n",
       "        vertical-align: top;\n",
       "    }\n",
       "\n",
       "    .dataframe thead th {\n",
       "        text-align: right;\n",
       "    }\n",
       "</style>\n",
       "<table border=\"1\" class=\"dataframe\">\n",
       "  <thead>\n",
       "    <tr style=\"text-align: right;\">\n",
       "      <th></th>\n",
       "      <th>PRUID</th>\n",
       "      <th>Value_numeric</th>\n",
       "    </tr>\n",
       "  </thead>\n",
       "  <tbody>\n",
       "    <tr>\n",
       "      <th>count</th>\n",
       "      <td>27909.000000</td>\n",
       "      <td>21071.000000</td>\n",
       "    </tr>\n",
       "    <tr>\n",
       "      <th>mean</th>\n",
       "      <td>30.964026</td>\n",
       "      <td>217.433501</td>\n",
       "    </tr>\n",
       "    <tr>\n",
       "      <th>std</th>\n",
       "      <td>22.534189</td>\n",
       "      <td>1108.229238</td>\n",
       "    </tr>\n",
       "    <tr>\n",
       "      <th>min</th>\n",
       "      <td>1.000000</td>\n",
       "      <td>0.000000</td>\n",
       "    </tr>\n",
       "    <tr>\n",
       "      <th>25%</th>\n",
       "      <td>11.000000</td>\n",
       "      <td>6.800000</td>\n",
       "    </tr>\n",
       "    <tr>\n",
       "      <th>50%</th>\n",
       "      <td>35.000000</td>\n",
       "      <td>24.000000</td>\n",
       "    </tr>\n",
       "    <tr>\n",
       "      <th>75%</th>\n",
       "      <td>48.000000</td>\n",
       "      <td>69.000000</td>\n",
       "    </tr>\n",
       "    <tr>\n",
       "      <th>max</th>\n",
       "      <td>63.000000</td>\n",
       "      <td>42771.000000</td>\n",
       "    </tr>\n",
       "  </tbody>\n",
       "</table>\n",
       "</div>"
      ],
      "text/plain": [
       "              PRUID  Value_numeric\n",
       "count  27909.000000   21071.000000\n",
       "mean      30.964026     217.433501\n",
       "std       22.534189    1108.229238\n",
       "min        1.000000       0.000000\n",
       "25%       11.000000       6.800000\n",
       "50%       35.000000      24.000000\n",
       "75%       48.000000      69.000000\n",
       "max       63.000000   42771.000000"
      ]
     },
     "execution_count": 10,
     "metadata": {},
     "output_type": "execute_result"
    }
   ],
   "source": [
    "substance_data.describe()"
   ]
  },
  {
   "cell_type": "code",
   "execution_count": 11,
   "metadata": {},
   "outputs": [
    {
     "name": "stdout",
     "output_type": "stream",
     "text": [
      "<class 'pandas.core.frame.DataFrame'>\n",
      "RangeIndex: 27909 entries, 0 to 27908\n",
      "Data columns (total 13 columns):\n",
      " #   Column            Non-Null Count  Dtype  \n",
      "---  ------            --------------  -----  \n",
      " 0   Substance         27909 non-null  object \n",
      " 1   Source            27909 non-null  object \n",
      " 2   Specific_Measure  27909 non-null  object \n",
      " 3   Type_Event        27909 non-null  object \n",
      " 4   Region            27909 non-null  object \n",
      " 5   PRUID             27909 non-null  int64  \n",
      " 6   Time_Period       27909 non-null  object \n",
      " 7   Year_Quarter      27909 non-null  object \n",
      " 8   Aggregator        20284 non-null  object \n",
      " 9   Disaggregator     20284 non-null  object \n",
      " 10  Unit              27909 non-null  object \n",
      " 11  Value             23910 non-null  object \n",
      " 12  Value_numeric     21071 non-null  float64\n",
      "dtypes: float64(1), int64(1), object(11)\n",
      "memory usage: 2.8+ MB\n",
      "None\n"
     ]
    }
   ],
   "source": [
    "substance_data['Value_numeric'] = pd.to_numeric(substance_data['Value'], errors='coerce')\n",
    "print(substance_data.info())"
   ]
  },
  {
   "cell_type": "markdown",
   "metadata": {},
   "source": [
    "Filter the data set"
   ]
  },
  {
   "cell_type": "code",
   "execution_count": 12,
   "metadata": {},
   "outputs": [
    {
     "name": "stdout",
     "output_type": "stream",
     "text": [
      "  Substance  Source Specific_Measure                             Type_Event  \\\n",
      "0   Opioids  Deaths  Overall numbers  Total apparent opioid toxicity deaths   \n",
      "1   Opioids  Deaths  Overall numbers  Total apparent opioid toxicity deaths   \n",
      "2   Opioids  Deaths  Overall numbers  Total apparent opioid toxicity deaths   \n",
      "3   Opioids  Deaths  Overall numbers  Total apparent opioid toxicity deaths   \n",
      "4   Opioids  Deaths  Overall numbers  Total apparent opioid toxicity deaths   \n",
      "5   Opioids  Deaths  Overall numbers  Total apparent opioid toxicity deaths   \n",
      "6   Opioids  Deaths  Overall numbers  Total apparent opioid toxicity deaths   \n",
      "7   Opioids  Deaths  Overall numbers  Total apparent opioid toxicity deaths   \n",
      "8   Opioids  Deaths  Overall numbers  Total apparent opioid toxicity deaths   \n",
      "\n",
      "   Region  PRUID Time_Period       Year_Quarter Aggregator Disaggregator  \\\n",
      "0  Canada      1     By year               2016        NaN           NaN   \n",
      "1  Canada      1     By year               2017        NaN           NaN   \n",
      "2  Canada      1     By year               2018        NaN           NaN   \n",
      "3  Canada      1     By year               2019        NaN           NaN   \n",
      "4  Canada      1     By year               2020        NaN           NaN   \n",
      "5  Canada      1     By year               2021        NaN           NaN   \n",
      "6  Canada      1     By year               2022        NaN           NaN   \n",
      "7  Canada      1     By year               2023        NaN           NaN   \n",
      "8  Canada      1     By year  2024 (Jan to Jun)        NaN           NaN   \n",
      "\n",
      "         Unit Value  Value_numeric  \n",
      "0  Crude rate   7.8            7.8  \n",
      "1  Crude rate  10.7           10.7  \n",
      "2  Crude rate  11.4           11.4  \n",
      "3  Crude rate   9.9            9.9  \n",
      "4  Crude rate  16.8           16.8  \n",
      "5  Crude rate  20.6           20.6  \n",
      "6  Crude rate    20           20.0  \n",
      "7  Crude rate  21.3           21.3  \n",
      "8  Crude rate  18.4           18.4  \n"
     ]
    }
   ],
   "source": [
    "total_opioid_toxicity_deaths_data = substance_data[\n",
    "    (substance_data['Substance']== 'Opioids') &\n",
    "    (substance_data['Region'] == 'Canada') &\n",
    "    (substance_data['Specific_Measure'] == 'Overall numbers') &\n",
    "    (substance_data['Unit'] == 'Crude rate')&\n",
    "    (substance_data['Type_Event'] == 'Total apparent opioid toxicity deaths')\n",
    "]\n",
    "\n",
    "print(total_opioid_toxicity_deaths_data)"
   ]
  },
  {
   "cell_type": "code",
   "execution_count": 13,
   "metadata": {},
   "outputs": [
    {
     "name": "stdout",
     "output_type": "stream",
     "text": [
      "        Year_Quarter  Year\n",
      "0               2016  2016\n",
      "1               2017  2017\n",
      "2               2018  2018\n",
      "3               2019  2019\n",
      "4               2020  2020\n",
      "5               2021  2021\n",
      "6               2022  2022\n",
      "7               2023  2023\n",
      "8  2024 (Jan to Jun)  2024\n",
      "<class 'pandas.core.frame.DataFrame'>\n",
      "Index: 9 entries, 0 to 8\n",
      "Data columns (total 14 columns):\n",
      " #   Column            Non-Null Count  Dtype  \n",
      "---  ------            --------------  -----  \n",
      " 0   Substance         9 non-null      object \n",
      " 1   Source            9 non-null      object \n",
      " 2   Specific_Measure  9 non-null      object \n",
      " 3   Type_Event        9 non-null      object \n",
      " 4   Region            9 non-null      object \n",
      " 5   PRUID             9 non-null      int64  \n",
      " 6   Time_Period       9 non-null      object \n",
      " 7   Year_Quarter      9 non-null      object \n",
      " 8   Aggregator        0 non-null      object \n",
      " 9   Disaggregator     0 non-null      object \n",
      " 10  Unit              9 non-null      object \n",
      " 11  Value             9 non-null      object \n",
      " 12  Value_numeric     9 non-null      float64\n",
      " 13  Year              9 non-null      object \n",
      "dtypes: float64(1), int64(1), object(12)\n",
      "memory usage: 1.1+ KB\n",
      "None\n"
     ]
    },
    {
     "name": "stderr",
     "output_type": "stream",
     "text": [
      "/var/folders/17/njh92ccn75l5xb8knljb82tc0000gn/T/ipykernel_5437/118972611.py:1: SettingWithCopyWarning: \n",
      "A value is trying to be set on a copy of a slice from a DataFrame.\n",
      "Try using .loc[row_indexer,col_indexer] = value instead\n",
      "\n",
      "See the caveats in the documentation: https://pandas.pydata.org/pandas-docs/stable/user_guide/indexing.html#returning-a-view-versus-a-copy\n",
      "  total_opioid_toxicity_deaths_data['Year'] = total_opioid_toxicity_deaths_data['Year_Quarter'].str.extract(r'(\\d{4})')\n"
     ]
    }
   ],
   "source": [
    "total_opioid_toxicity_deaths_data['Year'] = total_opioid_toxicity_deaths_data['Year_Quarter'].str.extract(r'(\\d{4})')\n",
    "\n",
    "print(total_opioid_toxicity_deaths_data[['Year_Quarter', 'Year']])\n",
    "print(total_opioid_toxicity_deaths_data.info())"
   ]
  },
  {
   "cell_type": "markdown",
   "metadata": {},
   "source": [
    "1. Line graph demonstrate the trends in Crude Rate of Opioid Toxicity Deaths (Canada) between 2016 to June 2024."
   ]
  },
  {
   "cell_type": "code",
   "execution_count": 39,
   "metadata": {},
   "outputs": [
    {
     "data": {
      "image/png": "[encoded data removed]",
      "text/plain": [
       "<Figure size 1000x600 with 1 Axes>"
      ]
     },
     "metadata": {},
     "output_type": "display_data"
    }
   ],
   "source": [
    "import matplotlib.pyplot as plt\n",
    "# Sort the data by time for accurate visualization\n",
    "total_opioid_toxicity_deaths_data = total_opioid_toxicity_deaths_data.sort_values(by=['Year_Quarter','Value_numeric'])\n",
    "\n",
    "# Plot the line chart\n",
    "plt.figure(figsize=(10, 6))\n",
    "plt.plot(\n",
    "        total_opioid_toxicity_deaths_data['Year_Quarter'], \n",
    "        total_opioid_toxicity_deaths_data['Value_numeric'], \n",
    "        color='#9C9E80',\n",
    "        marker='.', \n",
    "        label='Crude Rate', \n",
    "        linestyle='dotted', \n",
    "        linewidth=1, markersize=8)\n",
    "\n",
    "plt.fill_between(total_opioid_toxicity_deaths_data['Year_Quarter'], total_opioid_toxicity_deaths_data['Value_numeric'], \n",
    "                 color='#F9F4EA', alpha=1)\n",
    "\n",
    "# Add label and title\n",
    "plt.title('Trends in Crude Rate of Opioid Toxicity Deaths (Canada)', fontsize=14)\n",
    "plt.xlabel('Year and Quarter', fontsize=12)\n",
    "plt.ylabel('Crude Rate',fontsize=12)\n",
    "plt.xticks(rotation=45, ha='right') # Rotate x-axis labels for better readability\n",
    "plt.grid(alpha=0.2)\n",
    "plt.legend()\n",
    "plt.tight_layout()\n",
    "\n",
    "# show the plot\n",
    "plt.show()"
   ]
  }
 ],
 "metadata": {
  "kernelspec": {
   "display_name": "cus_seg",
   "language": "python",
   "name": "python3"
  },
  "language_info": {
   "codemirror_mode": {
    "name": "ipython",
    "version": 3
   },
   "file_extension": ".py",
   "mimetype": "text/x-python",
   "name": "python",
   "nbconvert_exporter": "python",
   "pygments_lexer": "ipython3",
   "version": "3.9.6"
  }
 },
 "nbformat": 4,
 "nbformat_minor": 2
}
