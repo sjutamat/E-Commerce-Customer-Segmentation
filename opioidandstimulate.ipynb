{
 "cells": [
  {
   "cell_type": "code",
   "execution_count": 1,
   "metadata": {},
   "outputs": [
    {
     "data": {
      "text/html": [
       "<div>\n",
       "<style scoped>\n",
       "    .dataframe tbody tr th:only-of-type {\n",
       "        vertical-align: middle;\n",
       "    }\n",
       "\n",
       "    .dataframe tbody tr th {\n",
       "        vertical-align: top;\n",
       "    }\n",
       "\n",
       "    .dataframe thead th {\n",
       "        text-align: right;\n",
       "    }\n",
       "</style>\n",
       "<table border=\"1\" class=\"dataframe\">\n",
       "  <thead>\n",
       "    <tr style=\"text-align: right;\">\n",
       "      <th></th>\n",
       "      <th>Substance</th>\n",
       "      <th>Source</th>\n",
       "      <th>Specific_Measure</th>\n",
       "      <th>Type_Event</th>\n",
       "      <th>Region</th>\n",
       "      <th>PRUID</th>\n",
       "      <th>Time_Period</th>\n",
       "      <th>Year_Quarter</th>\n",
       "      <th>Aggregator</th>\n",
       "      <th>Disaggregator</th>\n",
       "      <th>Unit</th>\n",
       "      <th>Value</th>\n",
       "    </tr>\n",
       "  </thead>\n",
       "  <tbody>\n",
       "    <tr>\n",
       "      <th>0</th>\n",
       "      <td>Opioids</td>\n",
       "      <td>Deaths</td>\n",
       "      <td>Overall numbers</td>\n",
       "      <td>Total apparent opioid toxicity deaths</td>\n",
       "      <td>Canada</td>\n",
       "      <td>1</td>\n",
       "      <td>By year</td>\n",
       "      <td>2016</td>\n",
       "      <td>NaN</td>\n",
       "      <td>NaN</td>\n",
       "      <td>Crude rate</td>\n",
       "      <td>7.8</td>\n",
       "    </tr>\n",
       "    <tr>\n",
       "      <th>1</th>\n",
       "      <td>Opioids</td>\n",
       "      <td>Deaths</td>\n",
       "      <td>Overall numbers</td>\n",
       "      <td>Total apparent opioid toxicity deaths</td>\n",
       "      <td>Canada</td>\n",
       "      <td>1</td>\n",
       "      <td>By year</td>\n",
       "      <td>2017</td>\n",
       "      <td>NaN</td>\n",
       "      <td>NaN</td>\n",
       "      <td>Crude rate</td>\n",
       "      <td>10.7</td>\n",
       "    </tr>\n",
       "    <tr>\n",
       "      <th>2</th>\n",
       "      <td>Opioids</td>\n",
       "      <td>Deaths</td>\n",
       "      <td>Overall numbers</td>\n",
       "      <td>Total apparent opioid toxicity deaths</td>\n",
       "      <td>Canada</td>\n",
       "      <td>1</td>\n",
       "      <td>By year</td>\n",
       "      <td>2018</td>\n",
       "      <td>NaN</td>\n",
       "      <td>NaN</td>\n",
       "      <td>Crude rate</td>\n",
       "      <td>11.4</td>\n",
       "    </tr>\n",
       "    <tr>\n",
       "      <th>3</th>\n",
       "      <td>Opioids</td>\n",
       "      <td>Deaths</td>\n",
       "      <td>Overall numbers</td>\n",
       "      <td>Total apparent opioid toxicity deaths</td>\n",
       "      <td>Canada</td>\n",
       "      <td>1</td>\n",
       "      <td>By year</td>\n",
       "      <td>2019</td>\n",
       "      <td>NaN</td>\n",
       "      <td>NaN</td>\n",
       "      <td>Crude rate</td>\n",
       "      <td>9.9</td>\n",
       "    </tr>\n",
       "    <tr>\n",
       "      <th>4</th>\n",
       "      <td>Opioids</td>\n",
       "      <td>Deaths</td>\n",
       "      <td>Overall numbers</td>\n",
       "      <td>Total apparent opioid toxicity deaths</td>\n",
       "      <td>Canada</td>\n",
       "      <td>1</td>\n",
       "      <td>By year</td>\n",
       "      <td>2020</td>\n",
       "      <td>NaN</td>\n",
       "      <td>NaN</td>\n",
       "      <td>Crude rate</td>\n",
       "      <td>16.8</td>\n",
       "    </tr>\n",
       "  </tbody>\n",
       "</table>\n",
       "</div>"
      ],
      "text/plain": [
       "  Substance  Source Specific_Measure                             Type_Event  \\\n",
       "0   Opioids  Deaths  Overall numbers  Total apparent opioid toxicity deaths   \n",
       "1   Opioids  Deaths  Overall numbers  Total apparent opioid toxicity deaths   \n",
       "2   Opioids  Deaths  Overall numbers  Total apparent opioid toxicity deaths   \n",
       "3   Opioids  Deaths  Overall numbers  Total apparent opioid toxicity deaths   \n",
       "4   Opioids  Deaths  Overall numbers  Total apparent opioid toxicity deaths   \n",
       "\n",
       "   Region  PRUID Time_Period Year_Quarter Aggregator Disaggregator  \\\n",
       "0  Canada      1     By year         2016        NaN           NaN   \n",
       "1  Canada      1     By year         2017        NaN           NaN   \n",
       "2  Canada      1     By year         2018        NaN           NaN   \n",
       "3  Canada      1     By year         2019        NaN           NaN   \n",
       "4  Canada      1     By year         2020        NaN           NaN   \n",
       "\n",
       "         Unit Value  \n",
       "0  Crude rate   7.8  \n",
       "1  Crude rate  10.7  \n",
       "2  Crude rate  11.4  \n",
       "3  Crude rate   9.9  \n",
       "4  Crude rate  16.8  "
      ]
     },
     "execution_count": 1,
     "metadata": {},
     "output_type": "execute_result"
    }
   ],
   "source": [
    "import pandas as pd\n",
    "substance = 'archive/SubstanceHarmsData.csv'\n",
    "substance_data = pd.read_csv(substance)\n",
    "substance_data.head()"
   ]
  },
  {
   "cell_type": "markdown",
   "metadata": {},
   "source": [
    "check data type"
   ]
  },
  {
   "cell_type": "code",
   "execution_count": 2,
   "metadata": {},
   "outputs": [
    {
     "name": "stdout",
     "output_type": "stream",
     "text": [
      "<class 'pandas.core.frame.DataFrame'>\n",
      "RangeIndex: 27909 entries, 0 to 27908\n",
      "Data columns (total 12 columns):\n",
      " #   Column            Non-Null Count  Dtype \n",
      "---  ------            --------------  ----- \n",
      " 0   Substance         27909 non-null  object\n",
      " 1   Source            27909 non-null  object\n",
      " 2   Specific_Measure  27909 non-null  object\n",
      " 3   Type_Event        27909 non-null  object\n",
      " 4   Region            27909 non-null  object\n",
      " 5   PRUID             27909 non-null  int64 \n",
      " 6   Time_Period       27909 non-null  object\n",
      " 7   Year_Quarter      27909 non-null  object\n",
      " 8   Aggregator        20284 non-null  object\n",
      " 9   Disaggregator     20284 non-null  object\n",
      " 10  Unit              27909 non-null  object\n",
      " 11  Value             23910 non-null  object\n",
      "dtypes: int64(1), object(11)\n",
      "memory usage: 2.6+ MB\n",
      "None\n"
     ]
    }
   ],
   "source": [
    "print(substance_data.info())"
   ]
  },
  {
   "cell_type": "markdown",
   "metadata": {},
   "source": [
    "check total records, find out how many records its has and how many records can be used to analyze."
   ]
  },
  {
   "cell_type": "code",
   "execution_count": null,
   "metadata": {},
   "outputs": [],
   "source": [
    "# get the row of data\n",
    "num_row = len(substance_data)\n",
    "print(num_row)"
   ]
  },
  {
   "cell_type": "markdown",
   "metadata": {},
   "source": [
    "Check total records contains invalid data."
   ]
  },
  {
   "cell_type": "code",
   "execution_count": null,
   "metadata": {},
   "outputs": [],
   "source": [
    "#get the row that value contain text and value can not be used.\n",
    "#try to convert data in column name Value to number\n",
    "substance_data['Value_numeric'] = pd.to_numeric(substance_data['Value'], errors='coerce')\n",
    "\n",
    "#indentify row with invalid data\n",
    "inval_rows = substance_data[substance_data['Value_numeric'].isna()]\n",
    "num_inval_rows = len(inval_rows)\n",
    "print(\"Row with improper data:\")\n",
    "print(inval_rows)\n",
    "print(f'This file has {num_inval_rows} rows invalid.')"
   ]
  },
  {
   "cell_type": "markdown",
   "metadata": {},
   "source": [
    "Check if data contains null value"
   ]
  },
  {
   "cell_type": "code",
   "execution_count": 16,
   "metadata": {},
   "outputs": [
    {
     "name": "stdout",
     "output_type": "stream",
     "text": [
      "This file has Substance              0\n",
      "Source                 0\n",
      "Specific_Measure       0\n",
      "Type_Event             0\n",
      "Region                 0\n",
      "PRUID                  0\n",
      "Time_Period            0\n",
      "Year_Quarter           0\n",
      "Aggregator          7625\n",
      "Disaggregator       7625\n",
      "Unit                   0\n",
      "Value               3999\n",
      "Value_numeric       6838\n",
      "dtype: int64 rows contain NULL data.\n"
     ]
    }
   ],
   "source": [
    "# check null data in every column\n",
    "data_null = substance_data.isnull().sum()\n",
    "print(f'This file has {data_null} rows contain NULL data.')"
   ]
  },
  {
   "cell_type": "code",
   "execution_count": null,
   "metadata": {},
   "outputs": [],
   "source": [
    "grouped = substance_data.groupby('Year_Quarter')['Value'].sum()\n",
    "print(grouped)"
   ]
  },
  {
   "cell_type": "code",
   "execution_count": 4,
   "metadata": {},
   "outputs": [
    {
     "data": {
      "text/html": [
       "<div>\n",
       "<style scoped>\n",
       "    .dataframe tbody tr th:only-of-type {\n",
       "        vertical-align: middle;\n",
       "    }\n",
       "\n",
       "    .dataframe tbody tr th {\n",
       "        vertical-align: top;\n",
       "    }\n",
       "\n",
       "    .dataframe thead th {\n",
       "        text-align: right;\n",
       "    }\n",
       "</style>\n",
       "<table border=\"1\" class=\"dataframe\">\n",
       "  <thead>\n",
       "    <tr style=\"text-align: right;\">\n",
       "      <th></th>\n",
       "      <th>PRUID</th>\n",
       "    </tr>\n",
       "  </thead>\n",
       "  <tbody>\n",
       "    <tr>\n",
       "      <th>count</th>\n",
       "      <td>27909.000000</td>\n",
       "    </tr>\n",
       "    <tr>\n",
       "      <th>mean</th>\n",
       "      <td>30.964026</td>\n",
       "    </tr>\n",
       "    <tr>\n",
       "      <th>std</th>\n",
       "      <td>22.534189</td>\n",
       "    </tr>\n",
       "    <tr>\n",
       "      <th>min</th>\n",
       "      <td>1.000000</td>\n",
       "    </tr>\n",
       "    <tr>\n",
       "      <th>25%</th>\n",
       "      <td>11.000000</td>\n",
       "    </tr>\n",
       "    <tr>\n",
       "      <th>50%</th>\n",
       "      <td>35.000000</td>\n",
       "    </tr>\n",
       "    <tr>\n",
       "      <th>75%</th>\n",
       "      <td>48.000000</td>\n",
       "    </tr>\n",
       "    <tr>\n",
       "      <th>max</th>\n",
       "      <td>63.000000</td>\n",
       "    </tr>\n",
       "  </tbody>\n",
       "</table>\n",
       "</div>"
      ],
      "text/plain": [
       "              PRUID\n",
       "count  27909.000000\n",
       "mean      30.964026\n",
       "std       22.534189\n",
       "min        1.000000\n",
       "25%       11.000000\n",
       "50%       35.000000\n",
       "75%       48.000000\n",
       "max       63.000000"
      ]
     },
     "execution_count": 4,
     "metadata": {},
     "output_type": "execute_result"
    }
   ],
   "source": [
    "substance_data.describe()"
   ]
  },
  {
   "cell_type": "code",
   "execution_count": 21,
   "metadata": {},
   "outputs": [
    {
     "name": "stdout",
     "output_type": "stream",
     "text": [
      "<class 'pandas.core.frame.DataFrame'>\n",
      "RangeIndex: 27909 entries, 0 to 27908\n",
      "Data columns (total 13 columns):\n",
      " #   Column            Non-Null Count  Dtype  \n",
      "---  ------            --------------  -----  \n",
      " 0   Substance         27909 non-null  object \n",
      " 1   Source            27909 non-null  object \n",
      " 2   Specific_Measure  27909 non-null  object \n",
      " 3   Type_Event        27909 non-null  object \n",
      " 4   Region            27909 non-null  object \n",
      " 5   PRUID             27909 non-null  int64  \n",
      " 6   Time_Period       27909 non-null  object \n",
      " 7   Year_Quarter      27909 non-null  object \n",
      " 8   Aggregator        20284 non-null  object \n",
      " 9   Disaggregator     20284 non-null  object \n",
      " 10  Unit              27909 non-null  object \n",
      " 11  Value             23910 non-null  object \n",
      " 12  Value_numeric     21071 non-null  float64\n",
      "dtypes: float64(1), int64(1), object(11)\n",
      "memory usage: 2.8+ MB\n",
      "None\n"
     ]
    }
   ],
   "source": [
    "substance_data['Value_numeric'] = pd.to_numeric(substance_data['Value'], errors='coerce')\n",
    "print(substance_data.info())"
   ]
  },
  {
   "cell_type": "markdown",
   "metadata": {},
   "source": [
    "Filter the data set"
   ]
  },
  {
   "cell_type": "code",
   "execution_count": 22,
   "metadata": {},
   "outputs": [
    {
     "name": "stdout",
     "output_type": "stream",
     "text": [
      "  Substance  Source Specific_Measure                             Type_Event  \\\n",
      "0   Opioids  Deaths  Overall numbers  Total apparent opioid toxicity deaths   \n",
      "1   Opioids  Deaths  Overall numbers  Total apparent opioid toxicity deaths   \n",
      "2   Opioids  Deaths  Overall numbers  Total apparent opioid toxicity deaths   \n",
      "3   Opioids  Deaths  Overall numbers  Total apparent opioid toxicity deaths   \n",
      "4   Opioids  Deaths  Overall numbers  Total apparent opioid toxicity deaths   \n",
      "5   Opioids  Deaths  Overall numbers  Total apparent opioid toxicity deaths   \n",
      "6   Opioids  Deaths  Overall numbers  Total apparent opioid toxicity deaths   \n",
      "7   Opioids  Deaths  Overall numbers  Total apparent opioid toxicity deaths   \n",
      "8   Opioids  Deaths  Overall numbers  Total apparent opioid toxicity deaths   \n",
      "\n",
      "   Region  PRUID Time_Period       Year_Quarter Aggregator Disaggregator  \\\n",
      "0  Canada      1     By year               2016        NaN           NaN   \n",
      "1  Canada      1     By year               2017        NaN           NaN   \n",
      "2  Canada      1     By year               2018        NaN           NaN   \n",
      "3  Canada      1     By year               2019        NaN           NaN   \n",
      "4  Canada      1     By year               2020        NaN           NaN   \n",
      "5  Canada      1     By year               2021        NaN           NaN   \n",
      "6  Canada      1     By year               2022        NaN           NaN   \n",
      "7  Canada      1     By year               2023        NaN           NaN   \n",
      "8  Canada      1     By year  2024 (Jan to Jun)        NaN           NaN   \n",
      "\n",
      "         Unit Value  Value_numeric  \n",
      "0  Crude rate   7.8            7.8  \n",
      "1  Crude rate  10.7           10.7  \n",
      "2  Crude rate  11.4           11.4  \n",
      "3  Crude rate   9.9            9.9  \n",
      "4  Crude rate  16.8           16.8  \n",
      "5  Crude rate  20.6           20.6  \n",
      "6  Crude rate    20           20.0  \n",
      "7  Crude rate  21.3           21.3  \n",
      "8  Crude rate  18.4           18.4  \n"
     ]
    }
   ],
   "source": [
    "total_opioid_toxicity_deaths_data = substance_data[\n",
    "    (substance_data['Substance']== 'Opioids') &\n",
    "    (substance_data['Region'] == 'Canada') &\n",
    "    (substance_data['Specific_Measure'] == 'Overall numbers') &\n",
    "    (substance_data['Unit'] == 'Crude rate')&\n",
    "    (substance_data['Type_Event'] == 'Total apparent opioid toxicity deaths')\n",
    "]\n",
    "\n",
    "print(total_opioid_toxicity_deaths_data)"
   ]
  },
  {
   "cell_type": "code",
   "execution_count": 23,
   "metadata": {},
   "outputs": [
    {
     "name": "stdout",
     "output_type": "stream",
     "text": [
      "        Year_Quarter  Year\n",
      "0               2016  2016\n",
      "1               2017  2017\n",
      "2               2018  2018\n",
      "3               2019  2019\n",
      "4               2020  2020\n",
      "5               2021  2021\n",
      "6               2022  2022\n",
      "7               2023  2023\n",
      "8  2024 (Jan to Jun)  2024\n",
      "<class 'pandas.core.frame.DataFrame'>\n",
      "Index: 9 entries, 0 to 8\n",
      "Data columns (total 14 columns):\n",
      " #   Column            Non-Null Count  Dtype  \n",
      "---  ------            --------------  -----  \n",
      " 0   Substance         9 non-null      object \n",
      " 1   Source            9 non-null      object \n",
      " 2   Specific_Measure  9 non-null      object \n",
      " 3   Type_Event        9 non-null      object \n",
      " 4   Region            9 non-null      object \n",
      " 5   PRUID             9 non-null      int64  \n",
      " 6   Time_Period       9 non-null      object \n",
      " 7   Year_Quarter      9 non-null      object \n",
      " 8   Aggregator        0 non-null      object \n",
      " 9   Disaggregator     0 non-null      object \n",
      " 10  Unit              9 non-null      object \n",
      " 11  Value             9 non-null      object \n",
      " 12  Value_numeric     9 non-null      float64\n",
      " 13  Year              9 non-null      object \n",
      "dtypes: float64(1), int64(1), object(12)\n",
      "memory usage: 1.1+ KB\n",
      "None\n"
     ]
    },
    {
     "name": "stderr",
     "output_type": "stream",
     "text": [
      "/var/folders/17/njh92ccn75l5xb8knljb82tc0000gn/T/ipykernel_1372/118972611.py:1: SettingWithCopyWarning: \n",
      "A value is trying to be set on a copy of a slice from a DataFrame.\n",
      "Try using .loc[row_indexer,col_indexer] = value instead\n",
      "\n",
      "See the caveats in the documentation: https://pandas.pydata.org/pandas-docs/stable/user_guide/indexing.html#returning-a-view-versus-a-copy\n",
      "  total_opioid_toxicity_deaths_data['Year'] = total_opioid_toxicity_deaths_data['Year_Quarter'].str.extract(r'(\\d{4})')\n"
     ]
    }
   ],
   "source": [
    "total_opioid_toxicity_deaths_data['Year'] = total_opioid_toxicity_deaths_data['Year_Quarter'].str.extract(r'(\\d{4})')\n",
    "\n",
    "print(total_opioid_toxicity_deaths_data[['Year_Quarter', 'Year']])\n",
    "print(total_opioid_toxicity_deaths_data.info())"
   ]
  },
  {
   "cell_type": "code",
   "execution_count": 26,
   "metadata": {},
   "outputs": [
    {
     "data": {
      "image/png": "[encoded data removed]",
      "text/plain": [
       "<Figure size 1000x600 with 1 Axes>"
      ]
     },
     "metadata": {},
     "output_type": "display_data"
    }
   ],
   "source": [
    "import matplotlib.pyplot as plt\n",
    "# Sort the data by time for accurate visualization\n",
    "total_opioid_toxicity_deaths_data = total_opioid_toxicity_deaths_data.sort_values(by=['Year_Quarter','Value_numeric'])\n",
    "\n",
    "# Plot the line chart\n",
    "plt.figure(figsize=(10, 6))\n",
    "plt.plot(total_opioid_toxicity_deaths_data['Year_Quarter'], total_opioid_toxicity_deaths_data['Value_numeric'], marker='o', color= 'b', label='Crude rate')\n",
    "\n",
    "# Add label and title\n",
    "plt.title('Trends in Crude Rate of Opioid Toxicity Deaths (Canada)', fontsize=14)\n",
    "plt.xlabel('Year and Quarter', fontsize=12)\n",
    "plt.ylabel('Crude Rate',fontsize=12)\n",
    "plt.xticks(rotation=45, ha='right') # Rotate x-axis labels for better readability\n",
    "plt.grid(alpha=0.3)\n",
    "plt.legend()\n",
    "plt.tight_layout()\n",
    "\n",
    "# show the plot\n",
    "plt.show()"
   ]
  }
 ],
 "metadata": {
  "kernelspec": {
   "display_name": "cus_seg",
   "language": "python",
   "name": "python3"
  },
  "language_info": {
   "codemirror_mode": {
    "name": "ipython",
    "version": 3
   },
   "file_extension": ".py",
   "mimetype": "text/x-python",
   "name": "python",
   "nbconvert_exporter": "python",
   "pygments_lexer": "ipython3",
   "version": "3.9.6"
  }
 },
 "nbformat": 4,
 "nbformat_minor": 2
}
