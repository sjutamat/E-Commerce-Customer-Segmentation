{
 "cells": [
  {
   "cell_type": "code",
   "execution_count": 30,
   "metadata": {},
   "outputs": [],
   "source": [
    "import numpy as np          # For numerical operations\n",
    "from sklearn.model_selection import train_test_split  # For splitting data (example for Scikit-learn)\n"
   ]
  },
  {
   "cell_type": "markdown",
   "metadata": {},
   "source": [
    "*1. Load Your Data*\n",
    "First, load the data into a Pandas DataFrame."
   ]
  },
  {
   "cell_type": "code",
   "execution_count": 31,
   "metadata": {},
   "outputs": [],
   "source": [
    "#Load data from CSV file\n",
    "import pandas as pd         # For data manipulation\n",
    "\n",
    "customer = 'archive/customers.csv'\n",
    "orders = 'archive/orders.csv'\n",
    "order_items = 'archive/order_items.csv'\n",
    "payments = 'archive/payment.csv'\n",
    "products = 'archive/products.csv'\n",
    "reviews = 'archive/reviews.csv'\n",
    "shipments = 'archive/shipments.csv'\n",
    "suppliers = 'archive/suppliers.csv'\n",
    "\n",
    "customer_data = pd.read_csv(customer)\n",
    "order_data = pd.read_csv(orders)\n",
    "order_item_data = pd.read_csv(order_items)\n",
    "payment_data = pd.read_csv(payments)\n",
    "product_data = pd.read_csv(products)\n",
    "review_data = pd.read_csv(reviews)\n",
    "shipment_data = pd.read_csv(shipments)\n",
    "supplier_data = pd.read_csv(suppliers)"
   ]
  },
  {
   "cell_type": "markdown",
   "metadata": {},
   "source": [
    "**2. Clean the data**\n",
    "a. Remove Missing or Duplicated Values,\n",
    "remove rows with missing values or fill them with appropriate values."
   ]
  },
  {
   "cell_type": "code",
   "execution_count": null,
   "metadata": {},
   "outputs": [],
   "source": [
    "#Display the few row to inspect the data.\n",
    "customer_data.head()"
   ]
  },
  {
   "cell_type": "code",
   "execution_count": null,
   "metadata": {},
   "outputs": [],
   "source": [
    "#Check for missing values\n",
    "customer_data.isnull().sum()\n",
    "#Drop rows with missing values (if appropriate)\n",
    "customer_data = customer_data.dropna()\n",
    "#Alternatively, fill missing values with a specific value (e.g., 0, mean, or median)\n",
    "#customer_data = customer_data.fillna(0)\n",
    "#Drop duplicated rows\n",
    "customer_data = customer_data.drop_duplicates()\n",
    "#Verify cleaning(\n",
    "customer_data.isnull().sum()"
   ]
  },
  {
   "cell_type": "code",
   "execution_count": null,
   "metadata": {},
   "outputs": [],
   "source": [
    "order_data.head()"
   ]
  },
  {
   "cell_type": "code",
   "execution_count": null,
   "metadata": {},
   "outputs": [],
   "source": [
    "#Check for missing values\n",
    "order_data.isnull().sum()\n",
    "#Drop rows with missing values (if appropriate)\n",
    "order_data = order_data.dropna()\n",
    "#Alternatively, fill missing values with a specific value (e.g., 0, mean, or median)\n",
    "#order_data = order_data.fillna(0)\n",
    "#Drop duplicated rows\n",
    "order_data = order_data.drop_duplicates()\n",
    "#Verify cleaning(\n",
    "order_data.isnull().sum()"
   ]
  },
  {
   "cell_type": "code",
   "execution_count": null,
   "metadata": {},
   "outputs": [],
   "source": [
    "order_item_data.head()"
   ]
  },
  {
   "cell_type": "code",
   "execution_count": null,
   "metadata": {},
   "outputs": [],
   "source": [
    "#Check for missing values\n",
    "order_item_data.isnull().sum()\n",
    "#Drop rows with missing values (if appropriate)\n",
    "order_item_data = order_item_data.dropna()\n",
    "#Alternatively, fill missing values with a specific value (e.g., 0, mean, or median)\n",
    "#order_item_data = order_item_data.fillna(0)\n",
    "#Drop duplicated rows\n",
    "order_item_data = order_item_data.drop_duplicates()\n",
    "#Verify cleaning(\n",
    "order_item_data.isnull().sum()"
   ]
  },
  {
   "cell_type": "code",
   "execution_count": null,
   "metadata": {},
   "outputs": [],
   "source": [
    "payment_data.head()"
   ]
  },
  {
   "cell_type": "code",
   "execution_count": null,
   "metadata": {},
   "outputs": [],
   "source": [
    "#Check for missing values\n",
    "payment_data.isnull().sum()\n",
    "#Drop rows with missing values (if appropriate)\n",
    "payment_data = payment_data.dropna()\n",
    "#Alternatively, fill missing values with a specific value (e.g., 0, mean, or median)\n",
    "#payment_data = payment_data.fillna(0)\n",
    "#Drop duplicated rows\n",
    "payment_data = payment_data.drop_duplicates()\n",
    "#Verify cleaning(\n",
    "payment_data.isnull().sum()"
   ]
  },
  {
   "cell_type": "code",
   "execution_count": null,
   "metadata": {},
   "outputs": [],
   "source": [
    "product_data.head()"
   ]
  },
  {
   "cell_type": "code",
   "execution_count": null,
   "metadata": {},
   "outputs": [],
   "source": [
    "#Check for missing values\n",
    "product_data.isnull().sum()\n",
    "#Drop rows with missing values (if appropriate)\n",
    "product_data = product_data.dropna()\n",
    "#Alternatively, fill missing values with a specific value (e.g., 0, mean, or median)\n",
    "#product_data = product_data.fillna(0)\n",
    "#Drop duplicated rows\n",
    "product_data = product_data.drop_duplicates()\n",
    "#Verify cleaning(\n",
    "product_data.isnull().sum()"
   ]
  },
  {
   "cell_type": "code",
   "execution_count": null,
   "metadata": {},
   "outputs": [],
   "source": [
    "review_data.head()"
   ]
  },
  {
   "cell_type": "code",
   "execution_count": null,
   "metadata": {},
   "outputs": [],
   "source": [
    "#Check for missing values\n",
    "review_data.isnull().sum()\n",
    "#Drop rows with missing values (if appropriate)\n",
    "review_data = review_data.dropna()\n",
    "#Alternatively, fill missing values with a specific value (e.g., 0, mean, or median)\n",
    "#review_data = review_data.fillna(0)\n",
    "#Drop duplicated rows\n",
    "review_data = review_data.drop_duplicates()\n",
    "#Verify cleaning(\n",
    "review_data.isnull().sum()"
   ]
  },
  {
   "cell_type": "code",
   "execution_count": null,
   "metadata": {},
   "outputs": [],
   "source": [
    "shipment_data.head()"
   ]
  },
  {
   "cell_type": "code",
   "execution_count": null,
   "metadata": {},
   "outputs": [],
   "source": [
    "#Check for missing values\n",
    "shipment_data.isnull().sum()\n",
    "#Drop rows with missing values (if appropriate)\n",
    "shipment_data = shipment_data.dropna()\n",
    "#Alternatively, fill missing values with a specific value (e.g., 0, mean, or median)\n",
    "#shipment_data = shipment_data.fillna(0)\n",
    "#Drop duplicated rows\n",
    "shipment_data = shipment_data.drop_duplicates()\n",
    "#Verify cleaning(\n",
    "shipment_data.isnull().sum()"
   ]
  },
  {
   "cell_type": "code",
   "execution_count": null,
   "metadata": {},
   "outputs": [],
   "source": [
    "supplier_data.head()"
   ]
  },
  {
   "cell_type": "code",
   "execution_count": null,
   "metadata": {},
   "outputs": [],
   "source": [
    "#Check for missing values\n",
    "supplier_data.isnull().sum()\n",
    "#Drop rows with missing values (if appropriate)\n",
    "supplier_data = supplier_data.dropna()\n",
    "#Alternatively, fill missing values with a specific value (e.g., 0, mean, or median)\n",
    "#supplier_data = supplier_data.fillna(0)\n",
    "#Drop duplicated rows\n",
    "supplier_data = supplier_data.drop_duplicates()\n",
    "#Verify cleaning(\n",
    "supplier_data.isnull().sum()"
   ]
  },
  {
   "cell_type": "markdown",
   "metadata": {},
   "source": [
    "b. Format Numeric Columns\n",
    "Ensure columns like Quantity, UnitPrice, and TotalPrice are numeric and free of negative values."
   ]
  },
  {
   "cell_type": "code",
   "execution_count": null,
   "metadata": {},
   "outputs": [],
   "source": [
    "# Convert columns to numeric, forcing errors to NaN\n",
    "product_data['price'] = pd.to_numeric(product_data['price'], errors='coerce')\n",
    "\n",
    "# Remove rows with negative or invalid numeric values\n",
    "#order_item_data = order_item_data[(order_item_data['Quantity'] >= 0) & (data['UnitPrice'] >= 0) & (data['TotalPrice'] >= 0)]\n",
    "product_data = product_data[(product_data['price']>=0)]\n",
    "# Verify data cleaning\n",
    "product_data.describe()"
   ]
  },
  {
   "cell_type": "markdown",
   "metadata": {},
   "source": [
    "c. Correct Data Types\n",
    "Ensure date columns like InvoiceDate are converted to datetime format."
   ]
  },
  {
   "cell_type": "code",
   "execution_count": 49,
   "metadata": {},
   "outputs": [],
   "source": [
    "# Convert InvoiceDate to datetime\n",
    "#data['shipment_date'] = pd.to_datetime(data['shipment_date'])\n",
    "#data['delivery_date'] = pd.to_datetime(data['delivery_date'])\n",
    "# Check data types after conversion\n",
    "#data.dtypes\n"
   ]
  },
  {
   "cell_type": "markdown",
   "metadata": {},
   "source": [
    "**3. Combine the data**\n",
    "Since the TotalPrice column and RFM(Recency, Frequency, Monetary value) metrics require consolidated data, you need to join tables together.\n",
    "The new column TotalPrice will be calculated by multiplying Quantity by UnitPrice."
   ]
  },
  {
   "cell_type": "markdown",
   "metadata": {},
   "source": [
    "a. Join Tables to Calculate TotalPrice\n",
    "To calculate TotalPrice, join order_items with products to get the product price and calculate the total cost for each item."
   ]
  },
  {
   "cell_type": "code",
   "execution_count": null,
   "metadata": {},
   "outputs": [],
   "source": [
    "# Merge order_items with products to get the price\n",
    "order_item_data = order_item_data.merge(product_data[['product_id', 'price']], on='product_id', how='left')\n",
    "\n",
    "# Calculate TotalPrice for each order item\n",
    "order_item_data['TotalPrice'] = order_item_data['quantity'] * order_item_data['price']\n",
    "\n",
    "# Preview the updated order_items DataFrame\n",
    "order_item_data.head()"
   ]
  },
  {
   "cell_type": "markdown",
   "metadata": {},
   "source": [
    "b. Combine with Orders\n",
    "Next, merge order_items with orders to link the TotalPrice to each order."
   ]
  },
  {
   "cell_type": "code",
   "execution_count": null,
   "metadata": {},
   "outputs": [],
   "source": [
    "# Merge order_items with orders\n",
    "order_item_data = order_item_data.merge(order_data[['order_id', 'customer_id', 'order_date']], on='order_id', how='left')\n",
    "\n",
    "# Convert order_date to datetime\n",
    "order_item_data['order_date'] = pd.to_datetime(order_item_data['order_date'])\n",
    "\n",
    "# Preview the merged DataFrame\n",
    "order_item_data.head()\n"
   ]
  },
  {
   "cell_type": "markdown",
   "metadata": {},
   "source": [
    "Step 3: Feature Engineering"
   ]
  },
  {
   "cell_type": "markdown",
   "metadata": {},
   "source": [
    "a. RFM Metrics"
   ]
  },
  {
   "cell_type": "code",
   "execution_count": null,
   "metadata": {},
   "outputs": [],
   "source": [
    "# Recency: Calculate the number of days since the last purchase for each customer.\n",
    "# Calculate the latest date in the dataset\n",
    "latest_date = order_item_data['order_date'].max()\n",
    "\n",
    "# Calculate Recency for each customer\n",
    "recency = order_item_data.groupby('customer_id')['order_date'].max().reset_index()\n",
    "recency['Recency'] = (latest_date - recency['order_date']).dt.days\n",
    "recency = recency[['customer_id', 'Recency']]\n",
    "\n",
    "# Calculate Frequency\n",
    "frequency = order_item_data.groupby('customer_id')['order_id'].nunique().reset_index()\n",
    "frequency.rename(columns={'order_id': 'Frequency'}, inplace=True)\n",
    "\n",
    "# Calculate Monetary\n",
    "monetary = order_item_data.groupby('customer_id')['TotalPrice'].sum().reset_index()\n",
    "monetary.rename(columns={'TotalPrice': 'Monetary'}, inplace=True)\n",
    "\n",
    "# Merge Recency, Frequency, and Monetary\n",
    "rfm = recency.merge(frequency, on='customer_id').merge(monetary, on='customer_id')\n",
    "\n",
    "# Preview the RFM DataFrame\n",
    "rfm.head()"
   ]
  },
  {
   "cell_type": "markdown",
   "metadata": {},
   "source": [
    "Step 4: Outlier Handling"
   ]
  },
  {
   "cell_type": "code",
   "execution_count": null,
   "metadata": {},
   "outputs": [],
   "source": [
    "import matplotlib.pyplot as plt  # For plotting graphs\n",
    "import seaborn as sns       # For advanced plotting\n",
    "\n",
    "# Plot boxplots for each RFM metric\n",
    "for col in ['Recency', 'Frequency', 'Monetary']:\n",
    "    sns.boxplot(x=rfm[col])\n",
    "    plt.title(f'Boxplot for {col}')\n",
    "    plt.show()\n",
    "\n",
    "# Handle outliers using IQR\n",
    "for col in ['Recency', 'Frequency', 'Monetary']:\n",
    "    Q1 = rfm[col].quantile(0.25)\n",
    "    Q3 = rfm[col].quantile(0.75)\n",
    "    IQR = Q3 - Q1\n",
    "    rfm = rfm[(rfm[col] >= Q1 - 1.5 * IQR) & (rfm[col] <= Q3 + 1.5 * IQR)]\n"
   ]
  },
  {
   "cell_type": "markdown",
   "metadata": {},
   "source": [
    "Step 5: Normalize/Scale the Data\n",
    "Scale the RFM metrics to bring them into comparable ranges using MinMaxScaler or StandardScaler."
   ]
  },
  {
   "cell_type": "code",
   "execution_count": null,
   "metadata": {},
   "outputs": [],
   "source": [
    "from sklearn.preprocessing import MinMaxScaler\n",
    "\n",
    "# Initialize the scalar\n",
    "scalar = MinMaxScaler()\n",
    "\n",
    "# Scalar RFM metrics\n",
    "rfm[['Recency', 'Frequency', 'Monetary']] = scalar.fit_transform(rfm[['Recency', 'Frequency', 'Monetary']])\n",
    "\n",
    "# Preview the scaled RFM Datafram\n",
    "rfm.head()\n"
   ]
  },
  {
   "cell_type": "markdown",
   "metadata": {},
   "source": [
    "Step 6: Save the Cleaned Data\n"
   ]
  },
  {
   "cell_type": "code",
   "execution_count": 58,
   "metadata": {},
   "outputs": [],
   "source": [
    "# Save the RFM DataFrame to a CSV file\n",
    "rfm.to_csv('processed/rfm_metrics.csv', index=False)"
   ]
  }
 ],
 "metadata": {
  "kernelspec": {
   "display_name": "cus_seg",
   "language": "python",
   "name": "python3"
  },
  "language_info": {
   "codemirror_mode": {
    "name": "ipython",
    "version": 3
   },
   "file_extension": ".py",
   "mimetype": "text/x-python",
   "name": "python",
   "nbconvert_exporter": "python",
   "pygments_lexer": "ipython3",
   "version": "3.9.6"
  }
 },
 "nbformat": 4,
 "nbformat_minor": 2
}
